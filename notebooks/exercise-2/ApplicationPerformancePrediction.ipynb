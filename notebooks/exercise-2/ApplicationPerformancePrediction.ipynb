{
 "cells": [
  {
   "cell_type": "markdown",
   "metadata": {
    "colab_type": "text",
    "id": "zbGBJegvBuXV"
   },
   "source": [
    "# Video Streaming: Feature Extraction from Video Streams\n",
    "\n",
    "In this assignment, you will explore a capture of a Netflix video stream. The packet capture itself has some additional traffic beyond Netflix traffic, and so part of the exercise involves filtering the traffic to include only the Netflix traffic.\n",
    "\n",
    "## Learning Objectives\n",
    "\n",
    "In this hands-on activity, you will learn how to:\n",
    "\n",
    "* Identify service types using TLS SNI/DNS\n",
    "* Calculate network counters\n",
    "* Infer video segment downloads\n"
   ]
  },
  {
   "cell_type": "markdown",
   "metadata": {},
   "source": [
    "### Step 0: Netflix PCAP to CSV\n",
    "To manipulate a network trace effectively, you can employ tshark to extract specific packet headers, saving the information into a CSV file for further analysis. The following command illustrates the process:"
   ]
  },
  {
   "cell_type": "code",
   "execution_count": 86,
   "metadata": {},
   "outputs": [
    {
     "data": {
      "text/plain": [
       "0"
      ]
     },
     "execution_count": 86,
     "metadata": {},
     "output_type": "execute_result"
    }
   ],
   "source": [
    "\n",
    "cmd = \"tshark -r netflix.pcapng -T fields -e frame.time_epoch -e frame.len -e ip.src -e ip.dst -e ipv6.src -e ipv6.dst -e ip.proto -e ipv6.nxt -e tcp.srcport -e tcp.dstport -e udp.srcport -e udp.dstport -e tcp.len -e tls.handshake.extensions_server_name -e dns.qry.name > netflix.csv\"\n",
    "os.system(cmd)"
   ]
  },
  {
   "cell_type": "markdown",
   "metadata": {
    "colab_type": "text",
    "id": "TOPPsKpYB6PS"
   },
   "source": [
    "### Step 1: Identifying Netflix Traffic from DNS\n",
    "\n",
    "One of the challenges with packet captures is that they often contain a mix of traffic from devices, destinations, and applications. When diagnosing performance problems with a particular service, often the first challenge is identifying and extracting the subset of traffic corresponding to that service.\n",
    "\n",
    "We have seen in earlier lectures how ML can be used for traffic classification. In this exercise, however, we will rely on two non-ML based methods to identify the IP addresses associated with Netflix. The first is using domain name system lookups and the second is using the Server Name Indication in the TLS handshake packets. Both of these rely on looking into unecrypted portion of the application payload. "
   ]
  },
  {
   "cell_type": "code",
   "execution_count": 51,
   "metadata": {
    "colab": {
     "base_uri": "https://localhost:8080/",
     "height": 479
    },
    "colab_type": "code",
    "executionInfo": {
     "elapsed": 42150,
     "status": "ok",
     "timestamp": 1591015027784,
     "user": {
      "displayName": "Francesco Bronzino",
      "photoUrl": "https://lh3.googleusercontent.com/a-/AOh14GhPGYU1WLTXFEy3RlXf98YD7oedzwcYqFyA-YiLEDw=s64",
      "userId": "18059887152339817390"
     },
     "user_tz": -120
    },
    "id": "Nu3kDcpOH_Qh",
    "outputId": "72eb598e-db9e-462d-91b3-126d06de75c1"
   },
   "outputs": [],
   "source": [
    "import os\n",
    "import pandas as pd\n",
    "import seaborn as sns\n",
    "NF_DOMAINS = ([\"nflxvideo\", \n",
    "              \"netflix\", \n",
    "              \"nflxso\", \n",
    "              \"nflxext\"])"
   ]
  },
  {
   "cell_type": "markdown",
   "metadata": {},
   "source": [
    "### Load the Packet Capture and Identify Netflix Traffic\n",
    "\n",
    "First, load the traffic capture and inspect it."
   ]
  },
  {
   "cell_type": "code",
   "execution_count": 87,
   "metadata": {},
   "outputs": [],
   "source": [
    "# Read the CSV file into a DataFrame\n",
    "columns = [\"frame.time\", \"frame.len\", \"ip.src\", \"ip.dst\", \"ipv6.src\", \"ipv6.dst\", \"ip.proto\", \"ipv6.nxt\", \"tcp.srcport\", \"tcp.dstport\", \"udp.srcport\", \"udp.dstport\", \"tcp.len\", \"sni\", \"dns\"]\n",
    "ndf = pd.read_csv(\"netflix.csv\", sep=\"\\t\", header=None, names=columns)"
   ]
  },
  {
   "cell_type": "markdown",
   "metadata": {},
   "source": [
    "#### Netflix traffic identification using SNI query\n",
    "We first filter packets with non-null SNI"
   ]
  },
  {
   "cell_type": "code",
   "execution_count": 88,
   "metadata": {},
   "outputs": [
    {
     "data": {
      "text/html": [
       "<div>\n",
       "<style scoped>\n",
       "    .dataframe tbody tr th:only-of-type {\n",
       "        vertical-align: middle;\n",
       "    }\n",
       "\n",
       "    .dataframe tbody tr th {\n",
       "        vertical-align: top;\n",
       "    }\n",
       "\n",
       "    .dataframe thead th {\n",
       "        text-align: right;\n",
       "    }\n",
       "</style>\n",
       "<table border=\"1\" class=\"dataframe\">\n",
       "  <thead>\n",
       "    <tr style=\"text-align: right;\">\n",
       "      <th></th>\n",
       "      <th>frame.time</th>\n",
       "      <th>frame.len</th>\n",
       "      <th>ip.src</th>\n",
       "      <th>ip.dst</th>\n",
       "      <th>ipv6.src</th>\n",
       "      <th>ipv6.dst</th>\n",
       "      <th>ip.proto</th>\n",
       "      <th>ipv6.nxt</th>\n",
       "      <th>tcp.srcport</th>\n",
       "      <th>tcp.dstport</th>\n",
       "      <th>udp.srcport</th>\n",
       "      <th>udp.dstport</th>\n",
       "      <th>tcp.len</th>\n",
       "      <th>sni</th>\n",
       "      <th>dns</th>\n",
       "    </tr>\n",
       "  </thead>\n",
       "  <tbody>\n",
       "    <tr>\n",
       "      <th>19</th>\n",
       "      <td>1.706371e+09</td>\n",
       "      <td>1292</td>\n",
       "      <td>NaN</td>\n",
       "      <td>NaN</td>\n",
       "      <td>2401:4900:1c54:5e4b:f19c:20ef:7149:ce60</td>\n",
       "      <td>2404:6800:4002:81e::200e</td>\n",
       "      <td>NaN</td>\n",
       "      <td>17.0</td>\n",
       "      <td>NaN</td>\n",
       "      <td>NaN</td>\n",
       "      <td>55234.0</td>\n",
       "      <td>443.0</td>\n",
       "      <td>NaN</td>\n",
       "      <td>clients4.google.com</td>\n",
       "      <td>NaN</td>\n",
       "    </tr>\n",
       "    <tr>\n",
       "      <th>207</th>\n",
       "      <td>1.706371e+09</td>\n",
       "      <td>969</td>\n",
       "      <td>NaN</td>\n",
       "      <td>NaN</td>\n",
       "      <td>2401:4900:1c54:5e4b:f19c:20ef:7149:ce60</td>\n",
       "      <td>2404:a800:0:29::42b</td>\n",
       "      <td>NaN</td>\n",
       "      <td>6.0</td>\n",
       "      <td>51671.0</td>\n",
       "      <td>443.0</td>\n",
       "      <td>NaN</td>\n",
       "      <td>NaN</td>\n",
       "      <td>883.0</td>\n",
       "      <td>occ-0-3752-3647.1.nflxso.net</td>\n",
       "      <td>NaN</td>\n",
       "    </tr>\n",
       "  </tbody>\n",
       "</table>\n",
       "</div>"
      ],
      "text/plain": [
       "       frame.time  frame.len ip.src ip.dst  \\\n",
       "19   1.706371e+09       1292    NaN    NaN   \n",
       "207  1.706371e+09        969    NaN    NaN   \n",
       "\n",
       "                                    ipv6.src                  ipv6.dst  \\\n",
       "19   2401:4900:1c54:5e4b:f19c:20ef:7149:ce60  2404:6800:4002:81e::200e   \n",
       "207  2401:4900:1c54:5e4b:f19c:20ef:7149:ce60       2404:a800:0:29::42b   \n",
       "\n",
       "    ip.proto  ipv6.nxt  tcp.srcport  tcp.dstport  udp.srcport  udp.dstport  \\\n",
       "19       NaN      17.0          NaN          NaN      55234.0        443.0   \n",
       "207      NaN       6.0      51671.0        443.0          NaN          NaN   \n",
       "\n",
       "     tcp.len                           sni  dns  \n",
       "19       NaN           clients4.google.com  NaN  \n",
       "207    883.0  occ-0-3752-3647.1.nflxso.net  NaN  "
      ]
     },
     "execution_count": 88,
     "metadata": {},
     "output_type": "execute_result"
    }
   ],
   "source": [
    "pd.options.display.max_rows = 1000 # display up to 1000 rows\n",
    "ndf[~pd.isna(ndf[\"sni\"])].head(2)"
   ]
  },
  {
   "cell_type": "markdown",
   "metadata": {},
   "source": [
    "Next, write an expression that filters the SNI packets corresponding to Netflix video data. Because you are looking for the IP addresses that are associated with Netflix traffic, you need to match SNI in the TLS handshake that contain Netflix domains.  You can use it to find the IP addresses associated with all Netflix traffic in the trace. "
   ]
  },
  {
   "cell_type": "code",
   "execution_count": null,
   "metadata": {},
   "outputs": [],
   "source": [
    "### "
   ]
  },
  {
   "cell_type": "markdown",
   "metadata": {},
   "source": [
    "#### Netflix traffic identification using DNS\n",
    "\n",
    "Now, can you write expressions to find out Netflix servers using the DNS data? You can follow a similar methodology as TLS SNI. "
   ]
  },
  {
   "cell_type": "markdown",
   "metadata": {
    "colab_type": "text",
    "id": "0qFV6q2OCCsK"
   },
   "source": [
    "### Step 2: Counting Traffic to Each Netflix Destination\n",
    "\n",
    "An important feature for inferring video quality of experience is the throughput of each flow in the video stream. To compute throughput, we need to divide the number of bytes transferred per unit time.\n",
    "\n",
    "As a first step towards computing that feature, count the number of packets and bytes, in each direction, to each Netflix IP address in the trace."
   ]
  },
  {
   "cell_type": "markdown",
   "metadata": {},
   "source": [
    "#### Count the Number of Downstream Bytes and Packets"
   ]
  },
  {
   "cell_type": "code",
   "execution_count": null,
   "metadata": {},
   "outputs": [],
   "source": []
  },
  {
   "cell_type": "markdown",
   "metadata": {},
   "source": [
    "#### Count the Number of Upstream Bytes and Packets"
   ]
  },
  {
   "cell_type": "code",
   "execution_count": null,
   "metadata": {},
   "outputs": [],
   "source": []
  },
  {
   "cell_type": "markdown",
   "metadata": {
    "colab_type": "text",
    "id": "lBCP_2SBC2xj"
   },
   "source": [
    "### Step 3: Inferring Segment Downloads\n",
    "\n",
    "Another important feature that can be used in inferring video quality of experience is the number of segments per unit time. In this step we will infer the number of segments downloaded per unit time for each IP address.\n",
    "\n",
    "The number of segments can be determined by counting the number of continuous downstream transfers separated by a packet with a payload of zero bytes. For the last step, compute the number of segment downloads from each Netflix IP address."
   ]
  },
  {
   "cell_type": "code",
   "execution_count": 104,
   "metadata": {},
   "outputs": [],
   "source": []
  }
 ],
 "metadata": {
  "celltoolbar": "Tags",
  "colab": {
   "authorship_tag": "ABX9TyM0Cd1i3qtplCsVAB9qTjxA",
   "collapsed_sections": [],
   "name": "pcap_processing_solution.ipynb",
   "provenance": []
  },
  "kernelspec": {
   "display_name": "Python 3 (ipykernel)",
   "language": "python",
   "name": "python3"
  },
  "language_info": {
   "codemirror_mode": {
    "name": "ipython",
    "version": 3
   },
   "file_extension": ".py",
   "mimetype": "text/x-python",
   "name": "python",
   "nbconvert_exporter": "python",
   "pygments_lexer": "ipython3",
   "version": "3.12.1"
  }
 },
 "nbformat": 4,
 "nbformat_minor": 4
}
