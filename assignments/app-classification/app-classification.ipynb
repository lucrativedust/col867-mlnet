{
 "cells": [
  {
   "cell_type": "markdown",
   "metadata": {},
   "source": [
    "# Assignment: Application Classification"
   ]
  },
  {
   "cell_type": "markdown",
   "metadata": {},
   "source": [
    "To this point in the class, you have learned various techniques for application/traffic classification. In this assignment, you will put it into practice, by training a model to identify applications using a network traffic trace.\n",
    "\n",
    "**Submission Instructions**: \n",
    "- Ensure your assignment is submitted through Gradescope. To do so, sign up for the course on Gradescope using the code: B2W3YG. \n",
    "- You should submit a single notebook containing your code to extract features and model evaluation, and response to Part 3.\n",
    "- You should assume the CSVs are located in a folder called `data`, co-located with the notebook.\n",
    "- Make sure the notebook is styled well. Write code in the relevant sections of the notebook. \n",
    "- I should be able to run the entire notebook without any errors. "
   ]
  },
  {
   "cell_type": "markdown",
   "metadata": {},
   "source": [
    "## Dataset download and Warmup"
   ]
  },
  {
   "cell_type": "markdown",
   "metadata": {},
   "source": [
    "We will use a public dataset that consists of annotated traffic logs. The dataset we will use for this assignment is available on [Onedrive](https://csciitd-my.sharepoint.com/:u:/g/personal/tmangla_csciitd_onmicrosoft_com/EafyJbnixmJIvZN1bgwD2W4BIrzc5yy9AP9uNrkmNTMfoA?e=Qa1NVU). The data consists of TSVs (tab-seprated) with headers corresponding to packets for an application. Each row corresponds to one packet. The headers follow have this schema: \n",
    "```\n",
    "columns = [\"frame.time_epoch\", \"frame.len\", \"ip.src\", \"ip.dst\", \"ip.proto\",\n",
    "    \"udp.srcport\", \"udp.dstport\", \"tcp.srcport\", \"tcp.dstport\",\n",
    "    \"tcp.flags\", \"tcp.flags.syn\", \"tcp.flags.fin\", \"dns.qry.name\"]\n",
    "```\n",
    "\n",
    "**Getting application ground truth:** You can use the filename of the CSV file"
   ]
  },
  {
   "cell_type": "markdown",
   "metadata": {},
   "source": [
    "Download the dataset and read it. You can use read the data in a dataframe: \n",
    "```\n",
    "df = pd.read_csv(filename, sep=\"\\t\", header=None, names=columns)\n",
    "```"
   ]
  },
  {
   "cell_type": "markdown",
   "metadata": {},
   "source": [
    "## Part 1: Extracting Features"
   ]
  },
  {
   "cell_type": "markdown",
   "metadata": {},
   "source": [
    "### Data cleaning"
   ]
  },
  {
   "cell_type": "markdown",
   "metadata": {},
   "source": [
    "Your goal is to extract the following features from the dataset: \n",
    "- Flow-level (5 features): flow duration, volume (upstream and downstream), number of packets (upstream and downstream)\n",
    "- Packet-level features (36 features): Statistics on packet inter-arrival times and packet size. These need to be computed for both upstream and downstream direction. You should compute the following statistics for each flow: mean, median, std, min, max, quantiles (25%ile, 75%iles), and deciles (10%ile, 90%ile). Compute these statistics per feature (IAT, size) and direction (upstream, downstream).\n",
    "\n",
    "**Defining Flows**: For TCP, a flow is same as connection (determined using SYN/FIN packets). You should define UDP flows using inactivity timeout (as discussed in class). Use an inactivity timeout of 60s. \n",
    "\n",
    "Make sure you filter out the non-IP traffic as well as the DNS traffic from the data."
   ]
  },
  {
   "cell_type": "markdown",
   "metadata": {},
   "source": [
    "**Checkpoint**: Once you do that, summarize the number of flows for each application. You can extract the application name from the file name. VPN and non-VPN applications should be treated differently. You can remove classes with less than 10 instances for the next part. "
   ]
  },
  {
   "cell_type": "code",
   "execution_count": 1,
   "metadata": {
    "tags": []
   },
   "outputs": [],
   "source": [
    "## Code here"
   ]
  },
  {
   "cell_type": "markdown",
   "metadata": {},
   "source": [
    "## Part 2: Application Classification"
   ]
  },
  {
   "cell_type": "markdown",
   "metadata": {},
   "source": [
    "### Prepare your data"
   ]
  },
  {
   "cell_type": "markdown",
   "metadata": {},
   "source": [
    "### Train Your Model\n",
    "- Select a model of your choice.\n",
    "- Train the model using the training data."
   ]
  },
  {
   "cell_type": "markdown",
   "metadata": {},
   "source": [
    "### Tune Your Model\n",
    "Perform hyperparameter tuning to find optimal parameters for your model."
   ]
  },
  {
   "cell_type": "markdown",
   "metadata": {},
   "source": [
    "### Evaluate Your Model\n",
    "\n",
    "**Checkpoint**: Evaluate your model accuracy according to the following metrics using 10-fold cross validation:\n",
    "\n",
    "- Accuracy\n",
    "- F1 Score\n",
    "- Confusion Matrix\n",
    "- ROC/AUC\n",
    "\n",
    "Your code should evaluate these metrics in separate cells"
   ]
  },
  {
   "cell_type": "code",
   "execution_count": 2,
   "metadata": {
    "tags": []
   },
   "outputs": [],
   "source": [
    "## Code here"
   ]
  },
  {
   "cell_type": "markdown",
   "metadata": {},
   "source": [
    "## Part 3: Results analysis"
   ]
  },
  {
   "cell_type": "markdown",
   "metadata": {},
   "source": [
    "Write a short report summarizing the results. Also, explain your results along the following questions:\n",
    "\n",
    "- Which category of applications were categorized correctly (incorrectly) and why?\n",
    "- For application categories that were predicted incorrectly, how would you improve their accuracy? Be specific about your answer. For instance, do not write I will collect more data. Explain what data would you collect and why that will help? "
   ]
  },
  {
   "cell_type": "code",
   "execution_count": 3,
   "metadata": {},
   "outputs": [],
   "source": [
    "## Report here"
   ]
  }
 ],
 "metadata": {
  "kernelspec": {
   "display_name": "Python 3 (ipykernel)",
   "language": "python",
   "name": "python3"
  },
  "language_info": {
   "codemirror_mode": {
    "name": "ipython",
    "version": 3
   },
   "file_extension": ".py",
   "mimetype": "text/x-python",
   "name": "python",
   "nbconvert_exporter": "python",
   "pygments_lexer": "ipython3",
   "version": "3.11.5"
  }
 },
 "nbformat": 4,
 "nbformat_minor": 4
}
